{
 "cells": [
  {
   "cell_type": "markdown",
   "id": "0a5479cb-aefe-44b0-a328-c8332724d46b",
   "metadata": {},
   "source": [
    "# Normalization Problem:\n",
    ": Normalization is one of the most basic preprocessing techniques in\r\n",
    "data analytics. This involves centering and scaling process. Centering means subtracting the data from the\r\n",
    "mean and scaling means dividing with its standard deviation. Mathematically, normalization can be\r\n",
    "expressed as:\r\n",
    "𝑍 = 𝑋 − 𝑥̅\r\n",
    "𝜎\r\n",
    "In Python, element-wise mean and element-wise standard deviation can be obtained by using .mean() and\r\n",
    ".std() calls.\r\n",
    "In this problem, create a random 5 x 5 ndarray and store it to variable X. Normalize X. Save your normalized\r\n",
    "ndarray as X_normaltted: January X, 202X\r\n",
    "\n"
   ]
  },
  {
   "cell_type": "code",
   "execution_count": 7,
   "id": "f9ebdbb7-befb-493f-b4bc-2b86dea70d22",
   "metadata": {},
   "outputs": [
    {
     "name": "stdout",
     "output_type": "stream",
     "text": [
      "[[ 0.16863361  0.88418748 -0.38936744  0.93472757 -0.3125632 ]\n",
      " [ 1.88060838  0.22305751  0.33243768  0.11533279  0.56290906]\n",
      " [-0.72257026  0.36986592 -1.85694424 -1.62210059 -1.27405855]\n",
      " [ 1.57630046  0.88257686  1.30234297 -1.16891517 -0.42385151]\n",
      " [-1.40419664 -0.77261848  0.75241602 -0.73907136  0.70086115]]\n"
     ]
    }
   ],
   "source": [
    "import numpy as np\n",
    "\n",
    "# this generate a random 5x5 array and assign it to the variable X\n",
    "X = np.random.rand(5, 5)\n",
    "\n",
    "# It calculates the mean and standard deviation of the array\n",
    "X_mean = X.mean()\n",
    "X_std = X.std()\n",
    "\n",
    "#Normalize the array using the formula Z = (X - mean) / std\n",
    "X_normalized = (X - X_mean) / X_std\n",
    "\n",
    "# Save the normalized array as a .npy file\n",
    "np.save('X_normalized.npy', X_normalized)\n",
    "\n",
    "# Displays the normalized array\n",
    "print(X_normalized)\n"
   ]
  },
  {
   "cell_type": "markdown",
   "id": "8f43b0c9-2acc-4b3e-9daa-e8b3f4cd70a6",
   "metadata": {},
   "source": [
    "# DVISISIBLE BY 3 PROBLEM: \n",
    "Create the following 10 x 10 ndarray.\r\n",
    "𝐴 =\r\n",
    "[\r\n",
    "1 4 ⋯ 81 100\r\n",
    "⋮ ⋮ ⋱ ⋮ ⋮\r\n",
    "⋮ ⋮ ⋱ ⋮ ⋮\r\n",
    "⋮ ⋮ ⋱ ⋮ ⋮\r\n",
    "8281 8464 ⋯ 9801 10000]\r\n",
    "which are the squares of the first 100 positive integers.\r\n",
    "From this ndarray, determine all the elements that are divisible by 3. Save the result as div\n",
    "_by_3.npyary X, 202X\r\n"
   ]
  },
  {
   "cell_type": "code",
   "execution_count": 9,
   "id": "788db164-43f2-4bee-b931-939d6f9d4272",
   "metadata": {},
   "outputs": [
    {
     "data": {
      "text/plain": [
       "array([[    1,     4,     9,    16,    25,    36,    49,    64,    81,\n",
       "          100],\n",
       "       [  121,   144,   169,   196,   225,   256,   289,   324,   361,\n",
       "          400],\n",
       "       [  441,   484,   529,   576,   625,   676,   729,   784,   841,\n",
       "          900],\n",
       "       [  961,  1024,  1089,  1156,  1225,  1296,  1369,  1444,  1521,\n",
       "         1600],\n",
       "       [ 1681,  1764,  1849,  1936,  2025,  2116,  2209,  2304,  2401,\n",
       "         2500],\n",
       "       [ 2601,  2704,  2809,  2916,  3025,  3136,  3249,  3364,  3481,\n",
       "         3600],\n",
       "       [ 3721,  3844,  3969,  4096,  4225,  4356,  4489,  4624,  4761,\n",
       "         4900],\n",
       "       [ 5041,  5184,  5329,  5476,  5625,  5776,  5929,  6084,  6241,\n",
       "         6400],\n",
       "       [ 6561,  6724,  6889,  7056,  7225,  7396,  7569,  7744,  7921,\n",
       "         8100],\n",
       "       [ 8281,  8464,  8649,  8836,  9025,  9216,  9409,  9604,  9801,\n",
       "        10000]])"
      ]
     },
     "execution_count": 9,
     "metadata": {},
     "output_type": "execute_result"
    }
   ],
   "source": [
    "# Initialize two empty lists: one for squared values and another for values divisible by 3\n",
    "Squared = []\n",
    "div3=[]\n",
    "#Loops through from 1-100 and squares each iteration and appends it to the \"Squared\" list\n",
    "for y in range(1, 101):\n",
    "    Squared.append(y**2)\n",
    "# Convert the \"squared\" list to a 10x10 NumPy array and store it in the variable \"q\"\n",
    "q = np.array(Squared).reshape(10,10)\n",
    "\n",
    "# Iterate through the \"squared\" list and append values divisible by 3 to the \"div3\" list\n",
    "\n",
    "for i in Squared:\n",
    "    if i%3 == 0:\n",
    "        div3.append(i)\n",
    "#saves the div3 list to \"div by 3.npy\"\n",
    "np.save('div by 3.npy', div3)\n",
    "#To show the 10x10 ndarray\n",
    "q"
   ]
  },
  {
   "cell_type": "code",
   "execution_count": 11,
   "id": "f688843f-bf31-4a6c-8f62-30e69398b585",
   "metadata": {},
   "outputs": [
    {
     "data": {
      "text/plain": [
       "array([   9,   36,   81,  144,  225,  324,  441,  576,  729,  900, 1089,\n",
       "       1296, 1521, 1764, 2025, 2304, 2601, 2916, 3249, 3600, 3969, 4356,\n",
       "       4761, 5184, 5625, 6084, 6561, 7056, 7569, 8100, 8649, 9216, 9801])"
      ]
     },
     "execution_count": 11,
     "metadata": {},
     "output_type": "execute_result"
    }
   ],
   "source": [
    "np.load('div by 3.npy')\n",
    "#it loads the list of the values that are divisible by 3 that was saved to 'div_by_3.npy'"
   ]
  },
  {
   "cell_type": "code",
   "execution_count": null,
   "id": "266e9700-6485-46f3-8c38-14299077acb2",
   "metadata": {},
   "outputs": [],
   "source": []
  }
 ],
 "metadata": {
  "kernelspec": {
   "display_name": "Python 3 (ipykernel)",
   "language": "python",
   "name": "python3"
  },
  "language_info": {
   "codemirror_mode": {
    "name": "ipython",
    "version": 3
   },
   "file_extension": ".py",
   "mimetype": "text/x-python",
   "name": "python",
   "nbconvert_exporter": "python",
   "pygments_lexer": "ipython3",
   "version": "3.12.4"
  }
 },
 "nbformat": 4,
 "nbformat_minor": 5
}
